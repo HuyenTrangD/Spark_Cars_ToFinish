{
 "cells": [
  {
   "cell_type": "code",
   "execution_count": 6,
   "id": "8d9b5416-3b43-40c6-b18e-b6a17cc39554",
   "metadata": {
    "tags": []
   },
   "outputs": [
    {
     "name": "stdout",
     "output_type": "stream",
     "text": [
      "root\n",
      " |-- lib_mrq: string (nullable = true)\n",
      " |-- lib_mod_doss: string (nullable = true)\n",
      " |-- lib_mod: string (nullable = true)\n",
      " |-- dscom: string (nullable = true)\n",
      " |-- cnit: string (nullable = true)\n",
      " |-- tvv: string (nullable = true)\n",
      " |-- cod_cbr: string (nullable = true)\n",
      " |-- hybride: string (nullable = true)\n",
      " |-- puiss_admin_98: integer (nullable = true)\n",
      " |-- puiss_max: string (nullable = true)\n",
      " |-- typ_boite_nb_rapp: string (nullable = true)\n",
      " |-- conso_urb: string (nullable = true)\n",
      " |-- conso_exurb: string (nullable = true)\n",
      " |-- conso_mixte: string (nullable = true)\n",
      " |-- co2: integer (nullable = true)\n",
      " |-- co_typ_1: string (nullable = true)\n",
      " |-- hc: string (nullable = true)\n",
      " |-- nox: string (nullable = true)\n",
      " |-- hcnox: string (nullable = true)\n",
      " |-- ptcl: string (nullable = true)\n",
      " |-- masse_ordma_min: integer (nullable = true)\n",
      " |-- masse_ordma_max: integer (nullable = true)\n",
      " |-- champ_v9: string (nullable = true)\n",
      " |-- date_maj: string (nullable = true)\n",
      " |-- Carrosserie: string (nullable = true)\n",
      " |-- gamme: string (nullable = true)\n",
      " |-- _c26: string (nullable = true)\n",
      " |-- _c27: string (nullable = true)\n",
      " |-- _c28: string (nullable = true)\n",
      " |-- _c29: string (nullable = true)\n",
      "\n"
     ]
    }
   ],
   "source": [
    "from pyspark.sql import *\n",
    "from pyspark.sql.functions import *\n",
    "\n",
    "spark = SparkSession.builder.getOrCreate() # on crée la session\n",
    "\n",
    "data = spark.read.csv(\"data/car.csv\", header=True, inferSchema=True, sep=';') # on récupère le csv et on définit les paramètres\n",
    "\n",
    "data.printSchema() # on affiche le schema"
   ]
  },
  {
   "cell_type": "code",
   "execution_count": 7,
   "id": "7e690bab-f6df-4552-86d9-0014d7a3e0cd",
   "metadata": {
    "tags": []
   },
   "outputs": [
    {
     "name": "stdout",
     "output_type": "stream",
     "text": [
      "+----------+------------+---------+--------------------+---------------+-----------+-------+-------+--------------+---------+-----------------+-----------+-----------+-----------+---+-----------+-----------+-----------+-----------+-----+---------------+---------------+--------------------+--------+-----------+---------+----+----+----+----+\n",
      "|   lib_mrq|lib_mod_doss|  lib_mod|               dscom|           cnit|        tvv|cod_cbr|hybride|puiss_admin_98|puiss_max|typ_boite_nb_rapp|  conso_urb|conso_exurb|conso_mixte|co2|   co_typ_1|         hc|        nox|      hcnox| ptcl|masse_ordma_min|masse_ordma_max|            champ_v9|date_maj|Carrosserie|    gamme|_c26|_c27|_c28|_c29|\n",
      "+----------+------------+---------+--------------------+---------------+-----------+-------+-------+--------------+---------+-----------------+-----------+-----------+-----------+---+-----------+-----------+-----------+-----------+-----+---------------+---------------+--------------------+--------+-----------+---------+----+----+----+----+\n",
      "|ALFA-ROMEO|         159|      159|159 1750 Tbi (200ch)|M10ALFVP000G340|939AXN1B52C|     ES|    non|            12|      147|              M 6|11,30000019|5,800000191|7,800000191|182|0,647000015|0,052000001|0,032000002|       null|0,002|           1505|           1505|715/2007*692/2008...| mars-14|    BERLINE|MOY-SUPER|null|null|null|null|\n",
      "|ALFA-ROMEO|         159|      159|159 1750 Tbi (200ch)|M10ALFVP000H341|939BXN1B53C|     ES|    non|            12|      147|              M 6|       11,5|          6|          8|186|0,647000015|0,052000001|0,032000002|       null|0,002|           1555|           1555|715/2007*692/2008...| mars-14|    BERLINE|MOY-SUPER|null|null|null|null|\n",
      "|ALFA-ROMEO|         159|      159|159 2.0 JTDm (136ch)|M10ALFVP000E302| 939AXR1B64|     GO|    non|             7|      100|              M 6|6,599999905|4,199999809|5,099999905|134|      0,066|       null|0,149000004|0,174999997|0,001|           1565|           1565|715/2007*692/2008...| mars-14|    BERLINE|MOY-SUPER|null|null|null|null|\n",
      "|ALFA-ROMEO|         159|      159|159 2.0 JTDm (136ch)|M10ALFVP000F303|939AXR1B64B|     GO|    non|             7|      100|              M 6|6,599999905|4,199999809|5,099999905|134|      0,066|       null|0,149000004|0,174999997|0,001|           1565|           1565|715/2007*692/2008...| mars-14|    BERLINE|MOY-SUPER|null|null|null|null|\n",
      "|ALFA-ROMEO|         159|      159|159 2.0 JTDm (170ch)|M10ALFVP000G304| 939AXS1B66|     GO|    non|             9|      125|              M 6|6,900000095|4,300000191|5,300000191|139|0,059999999|       null|0,164000005|0,193000004|0,001|           1565|           1565|715/2007*692/2008...| mars-14|    BERLINE|MOY-SUPER|null|null|null|null|\n",
      "|ALFA-ROMEO|         159|      159|159 2.0 JTDm (170ch)|M10ALFVP000H305|939AXS1B66B|     GO|    non|             9|      125|              M 6|6,900000095|4,300000191|5,300000191|139|0,059999999|       null|0,164000005|0,193000004|0,001|           1565|           1565|715/2007*692/2008...| mars-14|    BERLINE|MOY-SUPER|null|null|null|null|\n",
      "|ALFA-ROMEO|         159|      159|159 2.0 JTDm (170...|M10ALFVP000U221|939AXP1B54C|     GO|    non|             9|      125|              M 6|6,599999905|4,300000191|5,099999905|136|0,192000002|       null|      0,169|0,189999998|0,003|           1565|           1565|715/2007*692/2008...| mars-14|    BERLINE|MOY-SUPER|null|null|null|null|\n",
      "|ALFA-ROMEO|         159|      159|159 SW 2.0 JTDm (...|M10ALFVP000J306| 939BXR1B65|     GO|    non|             7|      100|              M 6|6,800000191|4,300000191|5,199999809|137|      0,066|       null|0,149000004|0,174999997|0,001|           1615|           1615|715/2007*692/2008...| mars-14|      BREAK|MOY-SUPER|null|null|null|null|\n",
      "|ALFA-ROMEO|         159|      159|159 SW 2.0 JTDm (...|M10ALFVP000J307|939BXR1B65B|     GO|    non|             7|      100|              M 6|6,800000191|4,300000191|5,199999809|137|      0,066|       null|0,149000004|0,174999997|0,001|           1615|           1615|715/2007*692/2008...| mars-14|      BREAK|MOY-SUPER|null|null|null|null|\n",
      "|ALFA-ROMEO|         159|      159|159 SW 2.0 JTDm (...|M10ALFVP000K308| 939BXS1B67|     GO|    non|             9|      125|              M 6|7,099999905|4,400000095|5,400000095|142|0,059999999|       null|0,164000005|0,193000004|0,001|           1615|           1615|715/2007*692/2008...| mars-14|      BREAK|MOY-SUPER|null|null|null|null|\n",
      "|ALFA-ROMEO|         159|      159|159 SW 2.0 JTDm (...|M10ALFVP000L309|939BXS1B67B|     GO|    non|             9|      125|              M 6|7,099999905|4,400000095|5,400000095|142|0,059999999|       null|0,164000005|0,193000004|0,001|           1615|           1615|715/2007*692/2008...| mars-14|      BREAK|MOY-SUPER|null|null|null|null|\n",
      "|ALFA-ROMEO|         159|      159|159 SW 2.0 JTDm (...|M10ALFVP000S255|939BXP1B55C|     GO|    non|             9|      125|              M 6|6,699999809|4,400000095|5,199999809|139|0,192000002|       null|      0,169|0,189999998|0,003|           1615|           1615|715/2007*692/2008...| mars-14|      BREAK|MOY-SUPER|null|null|null|null|\n",
      "|ALFA-ROMEO|          4C|       4C|                  4C|M10ALFVP000S413| 960CXB1A01|     ES|    non|            14|      177|              A 6|9,800000191|          5|6,800000191|157|0,404000014|      0,044|0,037999999|       null|0,003|            995|            995|715/2007*195/2013...| mars-14|      COUPE|     LUXE|null|null|null|null|\n",
      "|ALFA-ROMEO| AR8C SPIDER|8C SPIDER|           8C SPIDER|M10ALFVP0005293|920BXA1A00B|     ES|    non|            38|      331|              M 6|24,39999962|11,60000038|16,29999924|379|0,500999987|0,037999999|0,027000001|       null| null|           1750|           1750|715/2007*692/2008...| mars-14|  CABRIOLET|     LUXE|null|null|null|null|\n",
      "|ALFA-ROMEO| AR8C SPIDER|8C SPIDER|           8C SPIDER|M10ALFVP0006039| 920BXA1A00|     ES|    non|            38|      331|              M 6|24,39999962|11,60000038|16,29999924|379|0,500999987|0,037999999|0,027000001|       null| null|           1750|           1750|715/2007*692/2008...| mars-14|  CABRIOLET|     LUXE|null|null|null|null|\n",
      "|ALFA-ROMEO|       BRERA|    BRERA|BRERA 1750 TBI (2...|M10ALFVP0003266| 939DXN1B56|     ES|    non|            12|      147|              M 6|11,80000019|          6|8,100000381|189|0,601000011|0,059999999|0,039999999|       null|0,003|           1505|           1505|715/2007*692/2008...| mars-14|      COUPE|MOY-SUPER|null|null|null|null|\n",
      "|ALFA-ROMEO|       BRERA|    BRERA|BRERA 1750 TBI (2...|M10ALFVP0004267|939DXN1B56B|     ES|    non|            12|      147|              M 6|11,80000019|          6|8,100000381|189|0,601000011|0,059999999|0,039999999|       null|0,003|           1505|           1505|715/2007*692/2008...| mars-14|      COUPE|MOY-SUPER|null|null|null|null|\n",
      "|ALFA-ROMEO|       BRERA|    BRERA|BRERA 2.0 JTDm (1...|M10ALFVP0005268| 939DXP1B58|     GO|    non|             9|      125|              M 6|7,099999905|4,400000095|5,400000095|142|0,188999996|       null|0,155000001|0,180000007|0,002|           1555|           1555|715/2007*692/2008...| mars-14|      COUPE|MOY-SUPER|null|null|null|null|\n",
      "|ALFA-ROMEO|       BRERA|    BRERA|BRERA 2.0 JTDm (1...|M10ALFVP0006269|939DXP1B58B|     GO|    non|             9|      125|              M 6|7,099999905|4,400000095|5,400000095|142|0,188999996|       null|0,155000001|0,180000007|0,002|           1555|           1555|715/2007*692/2008...| mars-14|      COUPE|MOY-SUPER|null|null|null|null|\n",
      "|ALFA-ROMEO|       BRERA|    BRERA|BRERA 2.0 JTDm (1...|M10ALFVP0007270| 939DXQ1B60|     GO|    non|             9|      120|              M 6|7,099999905|4,400000095|5,400000095|142|0,188999996|       null|0,155000001|0,180000007|0,002|           1555|           1555|715/2007*692/2008...| mars-14|      COUPE|MOY-SUPER|null|null|null|null|\n",
      "+----------+------------+---------+--------------------+---------------+-----------+-------+-------+--------------+---------+-----------------+-----------+-----------+-----------+---+-----------+-----------+-----------+-----------+-----+---------------+---------------+--------------------+--------+-----------+---------+----+----+----+----+\n",
      "only showing top 20 rows\n",
      "\n"
     ]
    }
   ],
   "source": [
    "data.createOrReplaceTempView(\"car\") # on crée une vue temporaire en la nommant\n",
    "request = spark.sql(\"select * from car\")\n",
    "request.show()  #"
   ]
  },
  {
   "cell_type": "code",
   "execution_count": 8,
   "id": "a9067bb0-7539-4d7d-9a50-e512c34d84d2",
   "metadata": {
    "tags": []
   },
   "outputs": [
    {
     "name": "stdout",
     "output_type": "stream",
     "text": [
      "+----------+------------+---------+--------------------+---------------+-----------+-------+-------+--------------+---------+-----------------+-----------+-----------+-----------+---+-----------+-----------+-----------+-----------+-----+---------------+---------------+--------------------+--------+-----------+---------+----+----+----+----+\n",
      "|   lib_mrq|lib_mod_doss|  lib_mod|               dscom|           cnit|        tvv|cod_cbr|hybride|puiss_admin_98|puiss_max|typ_boite_nb_rapp|  conso_urb|conso_exurb|conso_mixte|co2|   co_typ_1|         hc|        nox|      hcnox| ptcl|masse_ordma_min|masse_ordma_max|            champ_v9|date_maj|Carrosserie|    gamme|_c26|_c27|_c28|_c29|\n",
      "+----------+------------+---------+--------------------+---------------+-----------+-------+-------+--------------+---------+-----------------+-----------+-----------+-----------+---+-----------+-----------+-----------+-----------+-----+---------------+---------------+--------------------+--------+-----------+---------+----+----+----+----+\n",
      "|ALFA-ROMEO|         159|      159|159 1750 Tbi (200ch)|M10ALFVP000G340|939AXN1B52C|     ES|    non|            12|      147|              M 6|11,30000019|5,800000191|7,800000191|182|0,647000015|0,052000001|0,032000002|       null|0,002|           1505|           1505|715/2007*692/2008...| mars-14|    BERLINE|MOY-SUPER|null|null|null|null|\n",
      "|ALFA-ROMEO|         159|      159|159 1750 Tbi (200ch)|M10ALFVP000H341|939BXN1B53C|     ES|    non|            12|      147|              M 6|       11,5|          6|          8|186|0,647000015|0,052000001|0,032000002|       null|0,002|           1555|           1555|715/2007*692/2008...| mars-14|    BERLINE|MOY-SUPER|null|null|null|null|\n",
      "|ALFA-ROMEO|         159|      159|159 2.0 JTDm (136ch)|M10ALFVP000E302| 939AXR1B64|     GO|    non|             7|      100|              M 6|6,599999905|4,199999809|5,099999905|134|      0,066|       null|0,149000004|0,174999997|0,001|           1565|           1565|715/2007*692/2008...| mars-14|    BERLINE|MOY-SUPER|null|null|null|null|\n",
      "|ALFA-ROMEO|         159|      159|159 2.0 JTDm (136ch)|M10ALFVP000F303|939AXR1B64B|     GO|    non|             7|      100|              M 6|6,599999905|4,199999809|5,099999905|134|      0,066|       null|0,149000004|0,174999997|0,001|           1565|           1565|715/2007*692/2008...| mars-14|    BERLINE|MOY-SUPER|null|null|null|null|\n",
      "|ALFA-ROMEO|         159|      159|159 2.0 JTDm (170ch)|M10ALFVP000G304| 939AXS1B66|     GO|    non|             9|      125|              M 6|6,900000095|4,300000191|5,300000191|139|0,059999999|       null|0,164000005|0,193000004|0,001|           1565|           1565|715/2007*692/2008...| mars-14|    BERLINE|MOY-SUPER|null|null|null|null|\n",
      "|ALFA-ROMEO|         159|      159|159 2.0 JTDm (170ch)|M10ALFVP000H305|939AXS1B66B|     GO|    non|             9|      125|              M 6|6,900000095|4,300000191|5,300000191|139|0,059999999|       null|0,164000005|0,193000004|0,001|           1565|           1565|715/2007*692/2008...| mars-14|    BERLINE|MOY-SUPER|null|null|null|null|\n",
      "|ALFA-ROMEO|         159|      159|159 2.0 JTDm (170...|M10ALFVP000U221|939AXP1B54C|     GO|    non|             9|      125|              M 6|6,599999905|4,300000191|5,099999905|136|0,192000002|       null|      0,169|0,189999998|0,003|           1565|           1565|715/2007*692/2008...| mars-14|    BERLINE|MOY-SUPER|null|null|null|null|\n",
      "|ALFA-ROMEO|         159|      159|159 SW 2.0 JTDm (...|M10ALFVP000J306| 939BXR1B65|     GO|    non|             7|      100|              M 6|6,800000191|4,300000191|5,199999809|137|      0,066|       null|0,149000004|0,174999997|0,001|           1615|           1615|715/2007*692/2008...| mars-14|      BREAK|MOY-SUPER|null|null|null|null|\n",
      "|ALFA-ROMEO|         159|      159|159 SW 2.0 JTDm (...|M10ALFVP000J307|939BXR1B65B|     GO|    non|             7|      100|              M 6|6,800000191|4,300000191|5,199999809|137|      0,066|       null|0,149000004|0,174999997|0,001|           1615|           1615|715/2007*692/2008...| mars-14|      BREAK|MOY-SUPER|null|null|null|null|\n",
      "|ALFA-ROMEO|         159|      159|159 SW 2.0 JTDm (...|M10ALFVP000K308| 939BXS1B67|     GO|    non|             9|      125|              M 6|7,099999905|4,400000095|5,400000095|142|0,059999999|       null|0,164000005|0,193000004|0,001|           1615|           1615|715/2007*692/2008...| mars-14|      BREAK|MOY-SUPER|null|null|null|null|\n",
      "|ALFA-ROMEO|         159|      159|159 SW 2.0 JTDm (...|M10ALFVP000L309|939BXS1B67B|     GO|    non|             9|      125|              M 6|7,099999905|4,400000095|5,400000095|142|0,059999999|       null|0,164000005|0,193000004|0,001|           1615|           1615|715/2007*692/2008...| mars-14|      BREAK|MOY-SUPER|null|null|null|null|\n",
      "|ALFA-ROMEO|         159|      159|159 SW 2.0 JTDm (...|M10ALFVP000S255|939BXP1B55C|     GO|    non|             9|      125|              M 6|6,699999809|4,400000095|5,199999809|139|0,192000002|       null|      0,169|0,189999998|0,003|           1615|           1615|715/2007*692/2008...| mars-14|      BREAK|MOY-SUPER|null|null|null|null|\n",
      "|ALFA-ROMEO|          4C|       4C|                  4C|M10ALFVP000S413| 960CXB1A01|     ES|    non|            14|      177|              A 6|9,800000191|          5|6,800000191|157|0,404000014|      0,044|0,037999999|       null|0,003|            995|            995|715/2007*195/2013...| mars-14|      COUPE|     LUXE|null|null|null|null|\n",
      "|ALFA-ROMEO| AR8C SPIDER|8C SPIDER|           8C SPIDER|M10ALFVP0005293|920BXA1A00B|     ES|    non|            38|      331|              M 6|24,39999962|11,60000038|16,29999924|379|0,500999987|0,037999999|0,027000001|       null| null|           1750|           1750|715/2007*692/2008...| mars-14|  CABRIOLET|     LUXE|null|null|null|null|\n",
      "|ALFA-ROMEO| AR8C SPIDER|8C SPIDER|           8C SPIDER|M10ALFVP0006039| 920BXA1A00|     ES|    non|            38|      331|              M 6|24,39999962|11,60000038|16,29999924|379|0,500999987|0,037999999|0,027000001|       null| null|           1750|           1750|715/2007*692/2008...| mars-14|  CABRIOLET|     LUXE|null|null|null|null|\n",
      "|ALFA-ROMEO|       BRERA|    BRERA|BRERA 1750 TBI (2...|M10ALFVP0003266| 939DXN1B56|     ES|    non|            12|      147|              M 6|11,80000019|          6|8,100000381|189|0,601000011|0,059999999|0,039999999|       null|0,003|           1505|           1505|715/2007*692/2008...| mars-14|      COUPE|MOY-SUPER|null|null|null|null|\n",
      "|ALFA-ROMEO|       BRERA|    BRERA|BRERA 1750 TBI (2...|M10ALFVP0004267|939DXN1B56B|     ES|    non|            12|      147|              M 6|11,80000019|          6|8,100000381|189|0,601000011|0,059999999|0,039999999|       null|0,003|           1505|           1505|715/2007*692/2008...| mars-14|      COUPE|MOY-SUPER|null|null|null|null|\n",
      "|ALFA-ROMEO|       BRERA|    BRERA|BRERA 2.0 JTDm (1...|M10ALFVP0005268| 939DXP1B58|     GO|    non|             9|      125|              M 6|7,099999905|4,400000095|5,400000095|142|0,188999996|       null|0,155000001|0,180000007|0,002|           1555|           1555|715/2007*692/2008...| mars-14|      COUPE|MOY-SUPER|null|null|null|null|\n",
      "|ALFA-ROMEO|       BRERA|    BRERA|BRERA 2.0 JTDm (1...|M10ALFVP0006269|939DXP1B58B|     GO|    non|             9|      125|              M 6|7,099999905|4,400000095|5,400000095|142|0,188999996|       null|0,155000001|0,180000007|0,002|           1555|           1555|715/2007*692/2008...| mars-14|      COUPE|MOY-SUPER|null|null|null|null|\n",
      "|ALFA-ROMEO|       BRERA|    BRERA|BRERA 2.0 JTDm (1...|M10ALFVP0007270| 939DXQ1B60|     GO|    non|             9|      120|              M 6|7,099999905|4,400000095|5,400000095|142|0,188999996|       null|0,155000001|0,180000007|0,002|           1555|           1555|715/2007*692/2008...| mars-14|      COUPE|MOY-SUPER|null|null|null|null|\n",
      "+----------+------------+---------+--------------------+---------------+-----------+-------+-------+--------------+---------+-----------------+-----------+-----------+-----------+---+-----------+-----------+-----------+-----------+-----+---------------+---------------+--------------------+--------+-----------+---------+----+----+----+----+\n",
      "only showing top 20 rows\n",
      "\n"
     ]
    }
   ],
   "source": [
    "table = spark.table('car')\n",
    "table.show()"
   ]
  },
  {
   "cell_type": "markdown",
   "id": "6313d457-a0be-4c70-8c9d-b265424aa441",
   "metadata": {},
   "source": [
    "### Exercice 1: Calculer la moyenne de la puissance administrative (puiss_admin_98) pour chaque marque de voiture (lib_mrq).\n",
    "\n"
   ]
  },
  {
   "cell_type": "code",
   "execution_count": 20,
   "id": "0c3f8157-739e-4ecd-a643-533b99391e6d",
   "metadata": {
    "tags": []
   },
   "outputs": [
    {
     "name": "stdout",
     "output_type": "stream",
     "text": [
      "+------------+---------+\n",
      "|     lib_mrq|AVG_PUISS|\n",
      "+------------+---------+\n",
      "| LAMBORGHINI|    53.39|\n",
      "|     FERRARI|    52.44|\n",
      "|     BENTLEY|    48.15|\n",
      "| ROLLS-ROYCE|    44.91|\n",
      "|ASTON MARTIN|    38.41|\n",
      "|    MASERATI|    29.08|\n",
      "|     PORSCHE|    28.46|\n",
      "|      JAGUAR|    26.67|\n",
      "|    CADILLAC|    23.37|\n",
      "|  LAND ROVER|     21.7|\n",
      "|       LOTUS|    21.14|\n",
      "|       LEXUS|    18.83|\n",
      "|    INFINITI|    17.69|\n",
      "|        JEEP|    16.43|\n",
      "|   CHEVROLET|    14.43|\n",
      "|         BMW|    14.36|\n",
      "|        AUDI|    12.92|\n",
      "|    MERCEDES|    10.99|\n",
      "|       VOLVO|    10.81|\n",
      "|      SUBARU|    10.26|\n",
      "+------------+---------+\n",
      "only showing top 20 rows\n",
      "\n"
     ]
    }
   ],
   "source": [
    "table.select('*') \\\n",
    "                .groupby('lib_mrq') \\\n",
    "                .agg( \\\n",
    "                     round(avg(col('puiss_admin_98')), 2) \\\n",
    "                     .alias('AVG_PUISS') \\\n",
    "                    ) \\\n",
    "                .sort(col('AVG_PUISS').desc()) \\\n",
    "                .show()"
   ]
  },
  {
   "cell_type": "markdown",
   "id": "e869a729-043d-4ca6-811f-6f043187f544",
   "metadata": {},
   "source": [
    "### Exercice 2: Trouver la voiture ayant la consommation mixte (conso_mixte) la plus basse.\n",
    "\n"
   ]
  },
  {
   "cell_type": "code",
   "execution_count": 43,
   "id": "04065b2e-074f-45ea-9eaf-d0afe578ac74",
   "metadata": {
    "tags": []
   },
   "outputs": [
    {
     "name": "stdout",
     "output_type": "stream",
     "text": [
      "+-------+------------+-------+-----------+\n",
      "|lib_mrq|lib_mod_doss|lib_mod|conso_mixte|\n",
      "+-------+------------+-------+-----------+\n",
      "|    BMW|     SERIE I|     I3|0,600000024|\n",
      "+-------+------------+-------+-----------+\n",
      "\n"
     ]
    }
   ],
   "source": [
    "table.select('lib_mrq','lib_mod_doss','lib_mod','conso_mixte').filter(col('conso_mixte') == table.select('*').agg(min(col('conso_mixte'))).collect()[0][0]).show()"
   ]
  },
  {
   "cell_type": "markdown",
   "id": "602847c2-154c-430e-8a6d-dab987bf2ef0",
   "metadata": {},
   "source": [
    "### Exercice 3: Filtrer les voitures dont la puissance maximale (puiss_max) est supérieure à 200 chevaux.\n",
    "\n"
   ]
  },
  {
   "cell_type": "code",
   "execution_count": 48,
   "id": "b6c4f9c9-81db-45cf-9a2b-2c8775731d9b",
   "metadata": {
    "tags": []
   },
   "outputs": [
    {
     "name": "stdout",
     "output_type": "stream",
     "text": [
      "+------------+--------------------+---------+--------------------+---------------+------------------+-------+-------+--------------+---------+-----------------+-----------+-----------+-----------+---+-----------+-----------+-----------+-----+----+---------------+---------------+--------------------+--------+-----------+-----+----+----+----+----+\n",
      "|     lib_mrq|        lib_mod_doss|  lib_mod|               dscom|           cnit|               tvv|cod_cbr|hybride|puiss_admin_98|puiss_max|typ_boite_nb_rapp|  conso_urb|conso_exurb|conso_mixte|co2|   co_typ_1|         hc|        nox|hcnox|ptcl|masse_ordma_min|masse_ordma_max|            champ_v9|date_maj|Carrosserie|gamme|_c26|_c27|_c28|_c29|\n",
      "+------------+--------------------+---------+--------------------+---------------+------------------+-------+-------+--------------+---------+-----------------+-----------+-----------+-----------+---+-----------+-----------+-----------+-----+----+---------------+---------------+--------------------+--------+-----------+-----+----+----+----+----+\n",
      "|  ALFA-ROMEO|         AR8C SPIDER|8C SPIDER|           8C SPIDER|M10ALFVP0005293|       920BXA1A00B|     ES|    non|            38|      331|              M 6|24,39999962|11,60000038|16,29999924|379|0,500999987|0,037999999|0,027000001| null|null|           1750|           1750|715/2007*692/2008...| mars-14|  CABRIOLET| LUXE|null|null|null|null|\n",
      "|  ALFA-ROMEO|         AR8C SPIDER|8C SPIDER|           8C SPIDER|M10ALFVP0006039|        920BXA1A00|     ES|    non|            38|      331|              M 6|24,39999962|11,60000038|16,29999924|379|0,500999987|0,037999999|0,027000001| null|null|           1750|           1750|715/2007*692/2008...| mars-14|  CABRIOLET| LUXE|null|null|null|null|\n",
      "|ASTON MARTIN|                 DB9|      DB9|                 DB9|M10SCFVP000F197|     VH1A100R2MAAE|     ES|    non|            44|      381|              A 6|21,60000038|         10|14,30000019|333|0,187000006|0,041000001|0,028999999| null|null|           1860|           1860|715/2007*630/2012...| mars-13|      COUPE| LUXE|null|null|null|null|\n",
      "|ASTON MARTIN|                 DB9|      DB9|                 DB9|M10SCFVP000G198|     VH1A101L2MAAE|     ES|    non|            44|      381|              A 6|21,60000038|         10|14,30000019|333|0,187000006|0,041000001|0,028999999| null|null|           1860|           1860|715/2007*630/2012...| mars-13|      COUPE| LUXE|null|null|null|null|\n",
      "|ASTON MARTIN|                 DB9|      DB9|                 DB9|M10SCFVP000H199|     VH1A102R4MAAE|     ES|    non|            44|      381|              A 6|21,60000038|         10|14,30000019|333|0,187000006|0,041000001|0,028999999| null|null|           1860|           1860|715/2007*630/2012...| mars-13|      COUPE| LUXE|null|null|null|null|\n",
      "|ASTON MARTIN|                 DB9|      DB9|                 DB9|M10SCFVP000J200|     VH1A103L4MAAE|     ES|    non|            44|      381|              A 6|21,60000038|         10|14,30000019|333|0,187000006|0,041000001|0,028999999| null|null|           1860|           1860|715/2007*630/2012...| mars-13|      COUPE| LUXE|null|null|null|null|\n",
      "|ASTON MARTIN|         DB9 VOLANTE|      DB9|                 DB9|M10SCFVP000J201|     VH1B100R2MAAE|     ES|    non|            44|      381|              A 6|21,60000038|         10|14,30000019|333|0,187000006|0,041000001|0,028999999| null|null|           1965|           1965|715/2007*630/2012...| mars-13|      COUPE| LUXE|null|null|null|null|\n",
      "|ASTON MARTIN|         DB9 VOLANTE|      DB9|                 DB9|M10SCFVP000K202|     VH1B101L2MAAE|     ES|    non|            44|      381|              A 6|21,60000038|         10|14,30000019|333|0,187000006|0,041000001|0,028999999| null|null|           1965|           1965|715/2007*630/2012...| mars-13|      COUPE| LUXE|null|null|null|null|\n",
      "|ASTON MARTIN|         DB9 VOLANTE|      DB9|                 DB9|M10SCFVP000L203|     VH1B102R4MAAE|     ES|    non|            44|      381|              A 6|21,60000038|         10|14,30000019|333|0,187000006|0,041000001|0,028999999| null|null|           1965|           1965|715/2007*630/2012...| mars-13|      COUPE| LUXE|null|null|null|null|\n",
      "|ASTON MARTIN|         DB9 VOLANTE|      DB9|                 DB9|M10SCFVP000M204|     VH1B103L4MAAE|     ES|    non|            44|      381|              A 6|21,60000038|         10|14,30000019|333|0,187000006|0,041000001|0,028999999| null|null|           1965|           1965|715/2007*630/2012...| mars-13|  CABRIOLET| LUXE|null|null|null|null|\n",
      "|ASTON MARTIN|            RAPIDE S|   RAPIDE|            RAPIDE S|M10SCFVP0001219|       VH1G3R4TAAE|     ES|    non|            49|      410|              A 6|21,39999962|10,10000038|14,30000019|332|0,250999987|      0,035|0,029999999| null|null|           2065|           2065|715/2007*630/2012...| mars-13|      COUPE| LUXE|null|null|null|null|\n",
      "|ASTON MARTIN|            RAPIDE S|   RAPIDE|            RAPIDE S|M10SCFVP0002220|       VH1G4L4TAAE|     ES|    non|            49|      410|              A 6|21,39999962|10,10000038|14,30000019|332|0,250999987|      0,035|0,029999999| null|null|           2065|           2065|715/2007*630/2012...| mars-13|    BERLINE| LUXE|null|null|null|null|\n",
      "|ASTON MARTIN|         V12 VANTAGE|  VANTAGE|         V12 VANTAGE|M10SCFVP0000193|  VH2(SE)SE5R2FMCD|     ES|    non|            45|      380|              M 6|24,29999924|11,69999981|16,39999962|388|0,326000005|0,030999999|      0,013| null|null|           1755|           1755|715/2007*692/2008...| mars-13|      COUPE| LUXE|null|null|null|null|\n",
      "|ASTON MARTIN|         V12 VANTAGE|  VANTAGE|         V12 VANTAGE|M10SCFVP000C194|  VH2(SE)SE6L2FMCD|     ES|    non|            45|      380|              M 6|24,29999924|11,69999981|16,39999962|388|0,326000005|0,030999999|      0,013| null|null|           1755|           1755|715/2007*692/2008...| mars-13|      COUPE| LUXE|null|null|null|null|\n",
      "|ASTON MARTIN|V12 VANTAGE ROADSTER|  VANTAGE|V12 VANTAGE ROADSTER|M10SCFVP000R209|  VH2(SF)SF5R2FMCD|     ES|    non|            45|      380|              M 6|24,29999924|11,69999981|16,39999962|388|0,326000005|0,030999999|      0,013| null|null|           1835|           1835|715/2007*692/2008...| mars-13|      COUPE| LUXE|null|null|null|null|\n",
      "|ASTON MARTIN|V12 VANTAGE ROADSTER|  VANTAGE|V12 VANTAGE ROADSTER|M10SCFVP000S210|  VH2(SF)SF6L2FMCD|     ES|    non|            45|      380|              M 6|24,29999924|11,69999981|16,39999962|388|0,326000005|0,030999999|      0,013| null|null|           1835|           1835|715/2007*692/2008...| mars-13|      COUPE| LUXE|null|null|null|null|\n",
      "|ASTON MARTIN|          V12 ZAGATO|   ZAGATO|          V12 ZAGATO|M10SCFVP000D195| VH2(SE)SZ90R2FMCD|     ES|    non|            45|      380|              M 6|24,29999924|11,69999981|16,39999962|388|0,326000005|0,030999999|      0,013| null|null|           1755|           1755|715/2007*692/2008...| mars-13|      COUPE| LUXE|null|null|null|null|\n",
      "|ASTON MARTIN|          V12 ZAGATO|   ZAGATO|          V12 ZAGATO|M10SCFVP000E196| VH2(SE)SZ91L2FMCD|     ES|    non|            45|      380|              M 6|24,29999924|11,69999981|16,39999962|388|0,326000005|0,030999999|      0,013| null|null|           1755|           1755|715/2007*692/2008...| mars-13|      COUPE| LUXE|null|null|null|null|\n",
      "|ASTON MARTIN|            VANQUISH| VANQUISH|            VANQUISH|M10SCFVP000T211|VH1(SAS)SA50R2PAAE|     ES|    non|            51|      422|              A 6|21,39999962|10,19999981|14,39999962|335|0,619000018|0,039000001|      0,037| null|null|           1814|           1814|715/2007*630/2012...| mars-13|      COUPE| LUXE|null|null|null|null|\n",
      "|ASTON MARTIN|            VANQUISH| VANQUISH|            VANQUISH|M10SCFVP000U212|VH1(SAS)SA51L2PAAE|     ES|    non|            51|      422|              A 6|21,39999962|10,19999981|14,39999962|335|0,619000018|0,039000001|      0,037| null|null|           1814|           1814|715/2007*630/2012...| mars-13|      COUPE| LUXE|null|null|null|null|\n",
      "+------------+--------------------+---------+--------------------+---------------+------------------+-------+-------+--------------+---------+-----------------+-----------+-----------+-----------+---+-----------+-----------+-----------+-----+----+---------------+---------------+--------------------+--------+-----------+-----+----+----+----+----+\n",
      "only showing top 20 rows\n",
      "\n"
     ]
    }
   ],
   "source": [
    "table.filter(col('puiss_max') > 200).show()"
   ]
  },
  {
   "cell_type": "markdown",
   "id": "1adb63ad-213f-42d3-bc16-01e06ceb9a32",
   "metadata": {},
   "source": [
    "### Exercice 4: Calculer le nombre de voitures hybrides par carrosserie.\n",
    "\n"
   ]
  },
  {
   "cell_type": "code",
   "execution_count": null,
   "id": "5359660b-cbd0-4b2a-8abc-433bf941c6f7",
   "metadata": {
    "tags": []
   },
   "outputs": [],
   "source": [
    "table.select('Carrosserie').groupby(col('Carosserie')).filter(col('hybride') == 'oui').show()"
   ]
  },
  {
   "cell_type": "markdown",
   "id": "c6c3a836-56f9-44c0-b064-22ad65a5bfa4",
   "metadata": {},
   "source": [
    "### Exercice 5: Calculer le pourcentage de voitures émettant moins de 120 g/km de CO2 (co2) par gamme de voiture.\n",
    "\n"
   ]
  },
  {
   "cell_type": "code",
   "execution_count": null,
   "id": "578b476b-8158-45f2-bcfd-f5227a0ea4e2",
   "metadata": {},
   "outputs": [],
   "source": []
  },
  {
   "cell_type": "markdown",
   "id": "1d6da144-b754-406f-a15c-a41a71dc4794",
   "metadata": {},
   "source": [
    "### Exercice 6: Trouver la carrosserie la plus courante parmi les voitures de chaque gamme.\n",
    "\n"
   ]
  },
  {
   "cell_type": "code",
   "execution_count": null,
   "id": "d73bf88c-f14c-4dc5-a593-569b82079cd3",
   "metadata": {},
   "outputs": [],
   "source": []
  },
  {
   "cell_type": "markdown",
   "id": "1bb84805-cfbe-4229-80f4-d7efbf371d66",
   "metadata": {},
   "source": [
    "### Exercice 7: Calculer la différence entre la puissance maximale (puiss_max) et la puissance administrative (puiss_admin_98) pour chaque voiture.\n",
    "\n"
   ]
  },
  {
   "cell_type": "code",
   "execution_count": null,
   "id": "9af5cd51-ff8b-4196-a736-9d57ff073be4",
   "metadata": {},
   "outputs": [],
   "source": []
  },
  {
   "cell_type": "markdown",
   "id": "1d8fa931-2cb8-42bc-975e-2f14ce65b068",
   "metadata": {},
   "source": [
    "### Exercice 8: Trouver les marques de voiture (lib_mrq) dont la consommation urbaine (conso_urb) est inférieure à la consommation mixte (conso_mixte).\n",
    "\n"
   ]
  },
  {
   "cell_type": "code",
   "execution_count": null,
   "id": "f1829687-6407-43f8-adaf-28e4fe29663c",
   "metadata": {},
   "outputs": [],
   "source": []
  },
  {
   "cell_type": "markdown",
   "id": "c6544838-cf72-47c0-b53c-c8c64e03a1dc",
   "metadata": {},
   "source": [
    "### Exercice 9: Calculer la moyenne des émissions de CO2 (co2) par année de mise à jour (annee_maj).\n",
    "\n"
   ]
  },
  {
   "cell_type": "code",
   "execution_count": null,
   "id": "e620f887-01f6-4802-b236-dbb6c86447e4",
   "metadata": {},
   "outputs": [],
   "source": []
  },
  {
   "cell_type": "markdown",
   "id": "a88baecb-fa37-4695-843d-d9ecb5916276",
   "metadata": {},
   "source": [
    "### Exercice 10: Trouver les voitures dont la masse ordma_max est supérieure à la moyenne de la masse ordma_max de toutes les voitures."
   ]
  },
  {
   "cell_type": "code",
   "execution_count": null,
   "id": "0f6974c1-01e2-47b5-ba83-7cec81653797",
   "metadata": {},
   "outputs": [],
   "source": []
  }
 ],
 "metadata": {
  "kernelspec": {
   "display_name": "Python 3 (ipykernel)",
   "language": "python",
   "name": "python3"
  },
  "language_info": {
   "codemirror_mode": {
    "name": "ipython",
    "version": 3
   },
   "file_extension": ".py",
   "mimetype": "text/x-python",
   "name": "python",
   "nbconvert_exporter": "python",
   "pygments_lexer": "ipython3",
   "version": "3.10.11"
  }
 },
 "nbformat": 4,
 "nbformat_minor": 5
}
